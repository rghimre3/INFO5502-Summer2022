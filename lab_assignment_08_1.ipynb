{
  "cells": [
    {
      "cell_type": "markdown",
      "metadata": {
        "id": "view-in-github",
        "colab_type": "text"
      },
      "source": [
        "<a href=\"https://colab.research.google.com/github/rghimre3/INFO5502-Summer2022/blob/main/lab_assignment_08_1.ipynb\" target=\"_parent\"><img src=\"https://colab.research.google.com/assets/colab-badge.svg\" alt=\"Open In Colab\"/></a>"
      ]
    },
    {
      "cell_type": "markdown",
      "metadata": {
        "id": "XeGmjqv6u9sR"
      },
      "source": [
        "## The Eighth Lab-assignment (08/09/2022 11:59'AM' - 08/12/2022 11:59PM, 50 points in total)"
      ]
    },
    {
      "cell_type": "markdown",
      "metadata": {
        "id": "oq4c2eGju9sW"
      },
      "source": [
        "The purpose of this assignment is to practice different Hypothesis Testing and annotation quality evaluation."
      ]
    },
    {
      "cell_type": "markdown",
      "metadata": {
        "id": "mUOfpO5Eu9sW"
      },
      "source": [
        "### Question 1 (10 points) \n",
        "\n",
        "During the 1980s, the general consensus is that about 5% of the nation’s children had autism. Some claimed that increases certain chemicals in the environment has led to an increase in autism. \n",
        "\n",
        "(1) Write an appropriate hypothesis test for this situation (5 points).  \n",
        "\n",
        "(2) Give an appropriate test for this hypothesis, stating what are the necessary conditions for performing the test (5 points). \n",
        "\n",
        "(3) A recent study examined 384 children and found that 46 showed signs of autism. Perform a test of the hypothesis and state the p-value (5 points). "
      ]
    },
    {
      "cell_type": "code",
      "execution_count": 1,
      "metadata": {
        "colab": {
          "base_uri": "https://localhost:8080/",
          "height": 53
        },
        "id": "NOUu00uHu9sX",
        "outputId": "239c313c-0901-4c24-ab4b-ba1727d0cd7f"
      },
      "outputs": [
        {
          "output_type": "execute_result",
          "data": {
            "text/plain": [
              "'\\n1).\\n\\nFrom the background the null hypotheise that there is 5% of childeren wit Autism\\ni.e H0: % of Childersn with Autism = 5\\n\\nThe Alternate hypothesis is that more than 5%  childeren has Autism\\ni.e H1: % of Children with Autism  > 5%\\n\\n2).\\n Based upon the test number of samples, if the sample size is less than 30 (n < 30), we select the t-test. And, when the sample size is greater than 30 then we choose z- test.\\n'"
            ],
            "application/vnd.google.colaboratory.intrinsic+json": {
              "type": "string"
            }
          },
          "metadata": {},
          "execution_count": 1
        }
      ],
      "source": [
        "# You answer here\n",
        "'''\n",
        "1).\n",
        "\n",
        "From the background the null hypotheise that there is 5% of childeren wit Autism\n",
        "i.e H0: % of Childersn with Autism = 5\n",
        "\n",
        "The Alternate hypothesis is that more than 5%  childeren has Autism\n",
        "i.e H1: % of Children with Autism  > 5%\n",
        "\n",
        "2).\n",
        " Based upon the test number of samples, if the sample size is less than 30 (n < 30), we select the t-test. And, when the sample size is greater than 30 then we choose z- test.\n",
        "'''"
      ]
    },
    {
      "cell_type": "code",
      "execution_count": 4,
      "metadata": {
        "colab": {
          "base_uri": "https://localhost:8080/"
        },
        "id": "nb_g4GVou9sY",
        "outputId": "8b3ae940-f92e-4e24-b215-0a0169a8f37f"
      },
      "outputs": [
        {
          "output_type": "stream",
          "name": "stdout",
          "text": [
            "Z-stat value: -77.2644132497523\n",
            "p-value: 0.0\n"
          ]
        }
      ],
      "source": [
        "# your code here\n",
        "\n",
        "'''\n",
        "2).\n",
        "'''\n",
        "from statsmodels.stats.proportion import proportions_ztest\n",
        "\n",
        "p = 0.05\n",
        "np = 384\n",
        "xs = 46\n",
        "\n",
        "print(\"Z-stat value:\", proportions_ztest(count = 5, nobs = np, value = 0.46)[0])\n",
        "\n",
        "print(\"p-value:\", proportions_ztest(count = 5, nobs = np, value = 0.46)[1])\n",
        "\n"
      ]
    },
    {
      "cell_type": "code",
      "source": [
        "'''\n",
        "From the output we see that p-value is 0.00 which is less than 0.05. This mean that we reject null hypothesis. \n",
        "The analysis is that more than 5% of children has austim.\n",
        "'''"
      ],
      "metadata": {
        "colab": {
          "base_uri": "https://localhost:8080/",
          "height": 35
        },
        "id": "rFat5cgOZoEW",
        "outputId": "2f1ea96b-6320-43e2-97ee-a8196e4425c9"
      },
      "execution_count": 5,
      "outputs": [
        {
          "output_type": "execute_result",
          "data": {
            "text/plain": [
              "'\\nFrom the output we see that p-value is 0.00 which is less than 0.05. This mean that we reject null hypothesis. \\nThe analysis is that more than 5% of children has austim.\\n'"
            ],
            "application/vnd.google.colaboratory.intrinsic+json": {
              "type": "string"
            }
          },
          "metadata": {},
          "execution_count": 5
        }
      ]
    },
    {
      "cell_type": "markdown",
      "metadata": {
        "id": "d7gcntcRu9sZ"
      },
      "source": [
        "### Question 2 (10 points) \n",
        "In this problem,we will examine the sugar content of several national brands of cereals, here measured as a percentage of weight.\n",
        "\n",
        "\n",
        "\n",
        "\n",
        "(1) Give a summary of these two datasets (5 points). \n",
        "\n",
        "(2) Create side-by-side boxplots and interpret what you see (5 points). \n",
        "\n",
        "(3) Use python to create a 95% confidence interval for the difference in mean sugar content and explain your result (5 points). "
      ]
    },
    {
      "cell_type": "code",
      "execution_count": null,
      "metadata": {
        "id": "opXqk7TDu9sZ"
      },
      "outputs": [],
      "source": [
        "# You answer here\n",
        "\n",
        "\n"
      ]
    },
    {
      "cell_type": "code",
      "execution_count": null,
      "metadata": {
        "id": "pVeYVWBHu9sa"
      },
      "outputs": [],
      "source": [
        "# your code here\n",
        "\n"
      ]
    },
    {
      "cell_type": "markdown",
      "metadata": {
        "id": "jCBkIMktu9sa"
      },
      "source": [
        "### Question 3 (30 points) \n",
        "\n",
        "Cohen's kappa coefficient (κ) is a statistic that is used to measure inter-rater reliability (and also intra-rater reliability) for qualitative (categorical) items. It is generally thought to be a more robust measure than simple percent agreement calculation, as κ takes into account the possibility of the agreement occurring by chance. There is controversy surrounding Cohen's kappa due to the difficulty in interpreting indices of agreement. Some researchers have suggested that it is conceptually simpler to evaluate disagreement between items.\n",
        "\n",
        "A more detailed description of Kappa agreement can be found on wikipedia: https://en.wikipedia.org/wiki/Cohen%27s_kappa\n",
        "\n",
        "Here is the dataset we created for a text classification task: https://github.com/suthapalliuday/INFO5502-Summer2022/blob/main/datasets/lab08-dataset.csv\n",
        "\n",
        "The last three columns indicate the annotation on the same sentence by three students respectively. Based on this dataset, please calculate the Cohen's kappa and the Fleiss' kappa using their formulars (Python). Please don't use any existing packages for the implementation. "
      ]
    },
    {
      "cell_type": "code",
      "execution_count": null,
      "metadata": {
        "id": "usAwx0Qxu9sb"
      },
      "outputs": [],
      "source": [
        "# your code here\n",
        "\n"
      ]
    }
  ],
  "metadata": {
    "kernelspec": {
      "display_name": "Python 3 (ipykernel)",
      "language": "python",
      "name": "python3"
    },
    "language_info": {
      "codemirror_mode": {
        "name": "ipython",
        "version": 3
      },
      "file_extension": ".py",
      "mimetype": "text/x-python",
      "name": "python",
      "nbconvert_exporter": "python",
      "pygments_lexer": "ipython3",
      "version": "3.9.12"
    },
    "colab": {
      "name": "lab_assignment_08-1.ipynb",
      "provenance": [],
      "include_colab_link": true
    }
  },
  "nbformat": 4,
  "nbformat_minor": 0
}