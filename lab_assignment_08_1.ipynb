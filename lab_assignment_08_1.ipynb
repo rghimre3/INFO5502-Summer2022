{
  "cells": [
    {
      "cell_type": "markdown",
      "metadata": {
        "id": "view-in-github",
        "colab_type": "text"
      },
      "source": [
        "<a href=\"https://colab.research.google.com/github/rghimre3/INFO5502-Summer2022/blob/main/lab_assignment_08_1.ipynb\" target=\"_parent\"><img src=\"https://colab.research.google.com/assets/colab-badge.svg\" alt=\"Open In Colab\"/></a>"
      ]
    },
    {
      "cell_type": "markdown",
      "metadata": {
        "id": "XeGmjqv6u9sR"
      },
      "source": [
        "## The Eighth Lab-assignment (08/09/2022 11:59'AM' - 08/12/2022 11:59PM, 50 points in total)"
      ]
    },
    {
      "cell_type": "markdown",
      "metadata": {
        "id": "oq4c2eGju9sW"
      },
      "source": [
        "The purpose of this assignment is to practice different Hypothesis Testing and annotation quality evaluation."
      ]
    },
    {
      "cell_type": "markdown",
      "metadata": {
        "id": "mUOfpO5Eu9sW"
      },
      "source": [
        "### Question 1 (10 points) \n",
        "\n",
        "During the 1980s, the general consensus is that about 5% of the nation’s children had autism. Some claimed that increases certain chemicals in the environment has led to an increase in autism. \n",
        "\n",
        "(1) Write an appropriate hypothesis test for this situation (5 points).  \n",
        "\n",
        "(2) Give an appropriate test for this hypothesis, stating what are the necessary conditions for performing the test (5 points). \n",
        "\n",
        "(3) A recent study examined 384 children and found that 46 showed signs of autism. Perform a test of the hypothesis and state the p-value (5 points). "
      ]
    },
    {
      "cell_type": "code",
      "execution_count": 15,
      "metadata": {
        "colab": {
          "base_uri": "https://localhost:8080/",
          "height": 70
        },
        "id": "NOUu00uHu9sX",
        "outputId": "4fff6e77-5880-4ca3-af28-c3d2ee7f9569"
      },
      "outputs": [
        {
          "output_type": "execute_result",
          "data": {
            "text/plain": [
              "'\\n1).\\n\\nFrom the background the null hypotheise that there is 5% of childeren wit Autism\\ni.e H0: % of Childersn with Autism = 5\\n\\nThe Alternate hypothesis is that more than 5%  childeren has Autism\\ni.e H1: % of Children with Autism  > 5%\\n\\n2).\\n Based upon the test number of samples, if the sample size is less than 30 (n < 30), we select the t-test. And, when the sample size is greater than 30 then we choose z- test.\\n'"
            ],
            "application/vnd.google.colaboratory.intrinsic+json": {
              "type": "string"
            }
          },
          "metadata": {},
          "execution_count": 15
        }
      ],
      "source": [
        "# You answer here\n",
        "'''\n",
        "1).\n",
        "\n",
        "From the background the null hypothesis is that there is 5% of childeren wit Autism\n",
        "i.e H0: % of Childersn with Autism = 5\n",
        "\n",
        "The Alternate hypothesis is that more than 5%  childeren has Autism\n",
        "i.e H1: % of Children with Autism  > 5%\n",
        "\n",
        "2).\n",
        " Based upon the test number of samples, if the sample size is less than 30 (n < 30), we select the t-test. And, when the sample size is greater than 30 then we choose z- test.\n",
        "'''"
      ]
    },
    {
      "cell_type": "code",
      "source": [
        "\n",
        "# importing all required library\n",
        "from statsmodels.stats.proportion import proportions_ztest\n",
        "import numpy as np\n",
        "import scipy.stats\n",
        "import pandas as pd\n",
        "import math"
      ],
      "metadata": {
        "id": "aM4-cfyBa_ye"
      },
      "execution_count": 16,
      "outputs": []
    },
    {
      "cell_type": "code",
      "execution_count": 17,
      "metadata": {
        "colab": {
          "base_uri": "https://localhost:8080/"
        },
        "id": "nb_g4GVou9sY",
        "outputId": "1d9f28a7-6ed1-46b0-a77c-46b76078a7cc"
      },
      "outputs": [
        {
          "output_type": "stream",
          "name": "stdout",
          "text": [
            "No of children i.e. population 384\n",
            "observed proportion 0.11979166666666667\n",
            "probability significance level 0.05\n"
          ]
        }
      ],
      "source": [
        "# your code here\n",
        "\n",
        "'''\n",
        "3).\n",
        "'''\n",
        "n=384\n",
        "p=46/384\n",
        "alpha=0.05\n",
        "print(\"No of children i.e. population\",n)\n",
        "print(\"observed proportion\",p)\n",
        "print(\"probability significance level\",alpha)\n",
        "\n"
      ]
    },
    {
      "cell_type": "code",
      "source": [
        "z=(p-alpha)/math.sqrt((alpha*(1-alpha))/n)\n",
        "print('z-score:',z)"
      ],
      "metadata": {
        "colab": {
          "base_uri": "https://localhost:8080/"
        },
        "id": "vw0chRS-zdtv",
        "outputId": "3ba32a1c-8d22-4e57-d580-fc09fc8139a0"
      },
      "execution_count": 13,
      "outputs": [
        {
          "output_type": "stream",
          "name": "stdout",
          "text": [
            "z-score: 6.27512493759735\n"
          ]
        }
      ]
    },
    {
      "cell_type": "code",
      "source": [
        "p_value =1 - int((scipy.stats.t.cdf(z, df=n-1))*1000)/1000\n",
        "print('P-value:',int((p_value)*1000)/1000)"
      ],
      "metadata": {
        "colab": {
          "base_uri": "https://localhost:8080/"
        },
        "id": "6jwBEhrQzj8S",
        "outputId": "9c0f3770-a957-49b9-99cf-f48e6ef6fb51"
      },
      "execution_count": 14,
      "outputs": [
        {
          "output_type": "stream",
          "name": "stdout",
          "text": [
            "P-value: 0.001\n"
          ]
        }
      ]
    },
    {
      "cell_type": "markdown",
      "metadata": {
        "id": "d7gcntcRu9sZ"
      },
      "source": [
        "### Question 2 (10 points) \n",
        "In this problem,we will examine the sugar content of several national brands of cereals, here measured as a percentage of weight.\n",
        "\n",
        "\n",
        "\n",
        "\n",
        "(1) Give a summary of these two datasets (5 points). \n",
        "\n",
        "(2) Create side-by-side boxplots and interpret what you see (5 points). \n",
        "\n",
        "(3) Use python to create a 95% confidence interval for the difference in mean sugar content and explain your result (5 points). "
      ]
    },
    {
      "cell_type": "code",
      "execution_count": null,
      "metadata": {
        "colab": {
          "base_uri": "https://localhost:8080/"
        },
        "id": "opXqk7TDu9sZ",
        "outputId": "d126e6d7-bb75-4922-9c7e-baa72be72044"
      },
      "outputs": [
        {
          "output_type": "stream",
          "name": "stdout",
          "text": [
            "Children\n",
            "**********\n",
            "Summary Statistics\n",
            "**********\n",
            "Median              : 45.9000\n",
            "Mean                : 46.8000\n",
            "Mode                : [44.]\n",
            "Standard Deviation  : 6.2472\n",
            "Variance            : 39.0274\n",
            "\n",
            "Adults\n",
            "**********\n",
            "Summary Statistics\n",
            "**********\n",
            "Median              : 7.9500\n",
            "Mean                : 10.1536\n",
            "Mode                : [4.1]\n",
            "Standard Deviation  : 7.4752\n",
            "Variance            : 55.8789\n"
          ]
        }
      ],
      "source": [
        "# You answer here\n",
        "children = [40.3, 55.0, 45.7, 43.3, 50.3, 45.9, 53.5, 43.0, 44.2, 44.0, 33.6, 55.1, 48.8,50.4, 37.8, 60.3, 46.6, 47.4, 44.0]\n",
        "adult = [20.0, 30.2, 2.2, 7.5, 4.4, 22.2, 16.6, 14.5, 21.4, 3.3, 10.0, 1.0, 4.4, 1.3, 8.1, 6.6, 7.8, 10.6, 16.2, 14.5,4.1, 15.8, 4.1, 2.4, 3.5, 8.5, 4.7, 18.4]\n",
        "\n",
        "\n",
        "def summary_statistics(data):\n",
        "    mean, median, mode, std, var = np.mean(data), np.median(data), st.mode(data)[0], np.std(data), np.var(data)\n",
        "    print('**********')\n",
        "    print(\"Summary Statistics\")\n",
        "    print('**********')\n",
        "    print(f\"Median              : {median:.4f}\")\n",
        "    print(f\"Mean                : {mean:.4f}\")\n",
        "    print(f\"Mode                : {mode}\")\n",
        "    print(f\"Standard Deviation  : {std:.4f}\")\n",
        "    print(f\"Variance            : {var:.4f}\")\n",
        "\n",
        "print(\"Children\")\n",
        "summary_statistics(children)\n",
        "\n",
        "print(\"\\nAdult\")\n",
        "summary_statistics(adult)\n"
      ]
    },
    {
      "cell_type": "code",
      "source": [
        "children = [40.3, 55.0, 45.7, 43.3, 50.3, 45.9, 53.5, 43.0, 44.2, 44.0, 33.6, 55.1, 48.8,50.4, 37.8, 60.3, 46.6, 47.4, 44.0]\n",
        "adult = [20.0, 30.2, 2.2, 7.5, 4.4, 22.2, 16.6, 14.5, 21.4, 3.3, 10.0, 1.0, 4.4, 1.3, 8.1, 6.6, 7.8, 10.6, 16.2, 14.5,4.1, 15.8, 4.1, 2.4, 3.5, 8.5, 4.7, 18.4]\n",
        "\n",
        "plt.subplot(1, 2, 1)\n",
        "# Creating box plot\n",
        "plt.boxplot(adult)\n",
        "\n",
        "\n",
        "plt.subplot(1, 2, 2)\n",
        "# Creating box plot\n",
        "plt.boxplot(children)\n",
        " \n",
        "# show plot\n",
        "plt.show()"
      ],
      "metadata": {
        "colab": {
          "base_uri": "https://localhost:8080/",
          "height": 265
        },
        "id": "opJIiCMhaph7",
        "outputId": "8f6732cb-ca44-4394-f2ac-71786e51370f"
      },
      "execution_count": null,
      "outputs": [
        {
          "output_type": "display_data",
          "data": {
            "text/plain": [
              "<Figure size 432x288 with 2 Axes>"
            ],
            "image/png": "[encoded data removed]"
          },
          "metadata": {
            "needs_background": "light"
          }
        }
      ]
    },
    {
      "cell_type": "markdown",
      "source": [
        " There are no outliers in the adult cereal brand sugar percent. There is an anomaly in the sugar percentage of children's cereal brands. The ranges of the two lists of values differ.\n",
        " "
      ],
      "metadata": {
        "id": "QHjAlBJAueBm"
      }
    },
    {
      "cell_type": "code",
      "source": [
        "  \n",
        "# Make a confidence interval of 95% for the difference in mean sugar content.\n",
        "print(\"The 95 percent confidence intervals for cereal sugar content for children = \", st.t.interval(alpha=0.95,df=len(children)-1,loc=np.mean(children),scale=st.sem(children)))\n",
        "\n",
        "print(\"The 95 percent confidence intervals for cereal sugar content for Adult = \",st.t.interval(alpha=0.95,df=len(adult)-1,loc=np.mean(adult), scale=st.sem(adult)))"
      ],
      "metadata": {
        "colab": {
          "base_uri": "https://localhost:8080/"
        },
        "id": "NZ24eKe6asV5",
        "outputId": "f734d22d-5650-41ec-affb-b36ae94d8c73"
      },
      "execution_count": null,
      "outputs": [
        {
          "output_type": "stream",
          "name": "stdout",
          "text": [
            "The 95 percent confidence intervals for cereal sugar content for children =  (43.706441602172454, 49.893558397827555)\n",
            "The 95 percent confidence intervals for cereal sugar content for Adult =  (7.201794131005471, 13.105348726137382)\n"
          ]
        }
      ]
    },
    {
      "cell_type": "markdown",
      "metadata": {
        "id": "jCBkIMktu9sa"
      },
      "source": [
        "### Question 3 (30 points) \n",
        "\n",
        "Cohen's kappa coefficient (κ) is a statistic that is used to measure inter-rater reliability (and also intra-rater reliability) for qualitative (categorical) items. It is generally thought to be a more robust measure than simple percent agreement calculation, as κ takes into account the possibility of the agreement occurring by chance. There is controversy surrounding Cohen's kappa due to the difficulty in interpreting indices of agreement. Some researchers have suggested that it is conceptually simpler to evaluate disagreement between items.\n",
        "\n",
        "A more detailed description of Kappa agreement can be found on wikipedia: https://en.wikipedia.org/wiki/Cohen%27s_kappa\n",
        "\n",
        "Here is the dataset we created for a text classification task: https://github.com/suthapalliuday/INFO5502-Summer2022/blob/main/datasets/lab08-dataset.csv\n",
        "\n",
        "The last three columns indicate the annotation on the same sentence by three students respectively. Based on this dataset, please calculate the Cohen's kappa and the Fleiss' kappa using their formulars (Python). Please don't use any existing packages for the implementation. "
      ]
    },
    {
      "cell_type": "code",
      "source": [
        "!pip install krippendorff"
      ],
      "metadata": {
        "colab": {
          "base_uri": "https://localhost:8080/"
        },
        "id": "QQy9Lv8B0ASX",
        "outputId": "fc3c7b68-8977-4576-d0a4-268d5cb3b312"
      },
      "execution_count": 40,
      "outputs": [
        {
          "output_type": "stream",
          "name": "stdout",
          "text": [
            "Looking in indexes: https://pypi.org/simple, https://us-python.pkg.dev/colab-wheels/public/simple/\n",
            "Collecting krippendorff\n",
            "  Downloading krippendorff-0.5.1-py3-none-any.whl (17 kB)\n",
            "Requirement already satisfied: numpy in /usr/local/lib/python3.7/dist-packages (from krippendorff) (1.21.6)\n",
            "Installing collected packages: krippendorff\n",
            "Successfully installed krippendorff-0.5.1\n"
          ]
        }
      ]
    },
    {
      "cell_type": "code",
      "execution_count": 41,
      "metadata": {
        "id": "usAwx0Qxu9sb",
        "colab": {
          "base_uri": "https://localhost:8080/",
          "height": 337
        },
        "outputId": "ed6970e2-b41b-4f29-b0e9-2933dc98caac"
      },
      "outputs": [
        {
          "output_type": "execute_result",
          "data": {
            "text/plain": [
              "                                    Title of Article  \\\n",
              "0  The measurement of ÒinterdisciplinarityÓ and Ò...   \n",
              "1  Innovation adoption: Broadcasting versus virality   \n",
              "2  Discovering underlying sensations of human emo...   \n",
              "3  Discovering underlying sensations of human emo...   \n",
              "4  Discovering underlying sensations of human emo...   \n",
              "\n",
              "                                       Contributions  Source  \\\n",
              "0  In this study, we discuss recent advances in t...  JASIST   \n",
              "1  broadcasting and virality have similar diffusi...  JASIST   \n",
              "2  we report the results of our study on sensatio...  JASIST   \n",
              "3  in the second part of the paper, we define nov...  JASIST   \n",
              "4  we design a method to classify texts into ones...  JASIST   \n",
              "\n",
              "                                        Annotation1  \\\n",
              "0  Algorithms/ Methods Construction or Optimization   \n",
              "1                                 Theory proposal\\n   \n",
              "2                                 Theory proposal\\n   \n",
              "3                                 Theory proposal\\n   \n",
              "4  Algorithms/ Methods Construction or Optimization   \n",
              "\n",
              "                                        Annotation2  \\\n",
              "0  Algorithms/ Methods Construction or Optimization   \n",
              "1                                 Theory proposal\\n   \n",
              "2  Algorithms/ Methods Construction or Optimization   \n",
              "3                                 Theory proposal\\n   \n",
              "4                Model Construction or Optimization   \n",
              "\n",
              "                                        Annotation3  Year  \n",
              "0  Algorithms/ Methods Construction or Optimization   NaN  \n",
              "1                                 Theory proposal\\n   NaN  \n",
              "2                                 Theory proposal\\n   NaN  \n",
              "3                                 Theory proposal\\n   NaN  \n",
              "4  Algorithms/ Methods Construction or Optimization   NaN  "
            ],
            "text/html": [
              "\n",
              "  <div id=\"df-dab3158a-62cf-42fd-95d6-50c3e24de325\">\n",
              "    <div class=\"colab-df-container\">\n",
              "      <div>\n",
              "<style scoped>\n",
              "    .dataframe tbody tr th:only-of-type {\n",
              "        vertical-align: middle;\n",
              "    }\n",
              "\n",
              "    .dataframe tbody tr th {\n",
              "        vertical-align: top;\n",
              "    }\n",
              "\n",
              "    .dataframe thead th {\n",
              "        text-align: right;\n",
              "    }\n",
              "</style>\n",
              "<table border=\"1\" class=\"dataframe\">\n",
              "  <thead>\n",
              "    <tr style=\"text-align: right;\">\n",
              "      <th></th>\n",
              "      <th>Title of Article</th>\n",
              "      <th>Contributions</th>\n",
              "      <th>Source</th>\n",
              "      <th>Annotation1</th>\n",
              "      <th>Annotation2</th>\n",
              "      <th>Annotation3</th>\n",
              "      <th>Year</th>\n",
              "    </tr>\n",
              "  </thead>\n",
              "  <tbody>\n",
              "    <tr>\n",
              "      <th>0</th>\n",
              "      <td>The measurement of ÒinterdisciplinarityÓ and Ò...</td>\n",
              "      <td>In this study, we discuss recent advances in t...</td>\n",
              "      <td>JASIST</td>\n",
              "      <td>Algorithms/ Methods Construction or Optimization</td>\n",
              "      <td>Algorithms/ Methods Construction or Optimization</td>\n",
              "      <td>Algorithms/ Methods Construction or Optimization</td>\n",
              "      <td>NaN</td>\n",
              "    </tr>\n",
              "    <tr>\n",
              "      <th>1</th>\n",
              "      <td>Innovation adoption: Broadcasting versus virality</td>\n",
              "      <td>broadcasting and virality have similar diffusi...</td>\n",
              "      <td>JASIST</td>\n",
              "      <td>Theory proposal\\n</td>\n",
              "      <td>Theory proposal\\n</td>\n",
              "      <td>Theory proposal\\n</td>\n",
              "      <td>NaN</td>\n",
              "    </tr>\n",
              "    <tr>\n",
              "      <th>2</th>\n",
              "      <td>Discovering underlying sensations of human emo...</td>\n",
              "      <td>we report the results of our study on sensatio...</td>\n",
              "      <td>JASIST</td>\n",
              "      <td>Theory proposal\\n</td>\n",
              "      <td>Algorithms/ Methods Construction or Optimization</td>\n",
              "      <td>Theory proposal\\n</td>\n",
              "      <td>NaN</td>\n",
              "    </tr>\n",
              "    <tr>\n",
              "      <th>3</th>\n",
              "      <td>Discovering underlying sensations of human emo...</td>\n",
              "      <td>in the second part of the paper, we define nov...</td>\n",
              "      <td>JASIST</td>\n",
              "      <td>Theory proposal\\n</td>\n",
              "      <td>Theory proposal\\n</td>\n",
              "      <td>Theory proposal\\n</td>\n",
              "      <td>NaN</td>\n",
              "    </tr>\n",
              "    <tr>\n",
              "      <th>4</th>\n",
              "      <td>Discovering underlying sensations of human emo...</td>\n",
              "      <td>we design a method to classify texts into ones...</td>\n",
              "      <td>JASIST</td>\n",
              "      <td>Algorithms/ Methods Construction or Optimization</td>\n",
              "      <td>Model Construction or Optimization</td>\n",
              "      <td>Algorithms/ Methods Construction or Optimization</td>\n",
              "      <td>NaN</td>\n",
              "    </tr>\n",
              "  </tbody>\n",
              "</table>\n",
              "</div>\n",
              "      <button class=\"colab-df-convert\" onclick=\"convertToInteractive('df-dab3158a-62cf-42fd-95d6-50c3e24de325')\"\n",
              "              title=\"Convert this dataframe to an interactive table.\"\n",
              "              style=\"display:none;\">\n",
              "        \n",
              "  <svg xmlns=\"http://www.w3.org/2000/svg\" height=\"24px\"viewBox=\"0 0 24 24\"\n",
              "       width=\"24px\">\n",
              "    <path d=\"M0 0h24v24H0V0z\" fill=\"none\"/>\n",
              "    <path d=\"M18.56 5.44l.94 2.06.94-2.06 2.06-.94-2.06-.94-.94-2.06-.94 2.06-2.06.94zm-11 1L8.5 8.5l.94-2.06 2.06-.94-2.06-.94L8.5 2.5l-.94 2.06-2.06.94zm10 10l.94 2.06.94-2.06 2.06-.94-2.06-.94-.94-2.06-.94 2.06-2.06.94z\"/><path d=\"M17.41 7.96l-1.37-1.37c-.4-.4-.92-.59-1.43-.59-.52 0-1.04.2-1.43.59L10.3 9.45l-7.72 7.72c-.78.78-.78 2.05 0 2.83L4 21.41c.39.39.9.59 1.41.59.51 0 1.02-.2 1.41-.59l7.78-7.78 2.81-2.81c.8-.78.8-2.07 0-2.86zM5.41 20L4 18.59l7.72-7.72 1.47 1.35L5.41 20z\"/>\n",
              "  </svg>\n",
              "      </button>\n",
              "      \n",
              "  <style>\n",
              "    .colab-df-container {\n",
              "      display:flex;\n",
              "      flex-wrap:wrap;\n",
              "      gap: 12px;\n",
              "    }\n",
              "\n",
              "    .colab-df-convert {\n",
              "      background-color: #E8F0FE;\n",
              "      border: none;\n",
              "      border-radius: 50%;\n",
              "      cursor: pointer;\n",
              "      display: none;\n",
              "      fill: #1967D2;\n",
              "      height: 32px;\n",
              "      padding: 0 0 0 0;\n",
              "      width: 32px;\n",
              "    }\n",
              "\n",
              "    .colab-df-convert:hover {\n",
              "      background-color: #E2EBFA;\n",
              "      box-shadow: 0px 1px 2px rgba(60, 64, 67, 0.3), 0px 1px 3px 1px rgba(60, 64, 67, 0.15);\n",
              "      fill: #174EA6;\n",
              "    }\n",
              "\n",
              "    [theme=dark] .colab-df-convert {\n",
              "      background-color: #3B4455;\n",
              "      fill: #D2E3FC;\n",
              "    }\n",
              "\n",
              "    [theme=dark] .colab-df-convert:hover {\n",
              "      background-color: #434B5C;\n",
              "      box-shadow: 0px 1px 3px 1px rgba(0, 0, 0, 0.15);\n",
              "      filter: drop-shadow(0px 1px 2px rgba(0, 0, 0, 0.3));\n",
              "      fill: #FFFFFF;\n",
              "    }\n",
              "  </style>\n",
              "\n",
              "      <script>\n",
              "        const buttonEl =\n",
              "          document.querySelector('#df-dab3158a-62cf-42fd-95d6-50c3e24de325 button.colab-df-convert');\n",
              "        buttonEl.style.display =\n",
              "          google.colab.kernel.accessAllowed ? 'block' : 'none';\n",
              "\n",
              "        async function convertToInteractive(key) {\n",
              "          const element = document.querySelector('#df-dab3158a-62cf-42fd-95d6-50c3e24de325');\n",
              "          const dataTable =\n",
              "            await google.colab.kernel.invokeFunction('convertToInteractive',\n",
              "                                                     [key], {});\n",
              "          if (!dataTable) return;\n",
              "\n",
              "          const docLinkHtml = 'Like what you see? Visit the ' +\n",
              "            '<a target=\"_blank\" href=https://colab.research.google.com/notebooks/data_table.ipynb>data table notebook</a>'\n",
              "            + ' to learn more about interactive tables.';\n",
              "          element.innerHTML = '';\n",
              "          dataTable['output_type'] = 'display_data';\n",
              "          await google.colab.output.renderOutput(dataTable, element);\n",
              "          const docLink = document.createElement('div');\n",
              "          docLink.innerHTML = docLinkHtml;\n",
              "          element.appendChild(docLink);\n",
              "        }\n",
              "      </script>\n",
              "    </div>\n",
              "  </div>\n",
              "  "
            ]
          },
          "metadata": {},
          "execution_count": 41
        }
      ],
      "source": [
        "# your code here\n",
        "import math\n",
        "from sklearn.preprocessing import LabelEncoder\n",
        "from sklearn.metrics import cohen_kappa_score\n",
        "import krippendorff\n",
        "\n",
        "# reading the data \n",
        "txt_df=pd.read_csv('https://raw.githubusercontent.com/suthapalliuday/INFO5502-Summer2022/main/datasets/lab08-dataset.csv')\n",
        "txt_df.head()\n"
      ]
    },
    {
      "cell_type": "code",
      "source": [
        "labele = LabelEncoder()\n",
        "labele.fit(txt_df['Annotation1'])\n",
        "\n",
        "txt_df['le_Annotation1'] = labele.transform(txt_df['Annotation1'])\n",
        "txt_df['le_Annotation2'] = labele.transform(txt_df['Annotation2'])\n",
        "txt_df['le_Annotation3'] = labele.transform(txt_df['Annotation3'])\n",
        "txt_df['Annotation1'].value_counts()"
      ],
      "metadata": {
        "colab": {
          "base_uri": "https://localhost:8080/"
        },
        "id": "qn4g-9eLy5Iy",
        "outputId": "5021248f-6bcd-40c4-aa29-fab63bb51ced"
      },
      "execution_count": 43,
      "outputs": [
        {
          "output_type": "execute_result",
          "data": {
            "text/plain": [
              "Theory proposal\\n                                   1323\n",
              "Algorithms/ Methods Construction or Optimization     579\n",
              "Model Construction or Optimization                   555\n",
              "Performance Evaluation                               474\n",
              "Resources                                            245\n",
              "Applications                                         119\n",
              "Dataset creation                                     102\n",
              " \"Theory proposal\\n\"                                   1\n",
              "Name: Annotation1, dtype: int64"
            ]
          },
          "metadata": {},
          "execution_count": 43
        }
      ]
    },
    {
      "cell_type": "code",
      "source": [
        "x1 = cohen_kappa_score(list(txt_df['le_Annotation1'].values), list(txt_df['le_Annotation2'].values))\n",
        "x2 = cohen_kappa_score(list(txt_df['le_Annotation2'].values), list(txt_df['le_Annotation3'].values))\n",
        "x3 = cohen_kappa_score(list(txt_df['le_Annotation1'].values), list(txt_df['le_Annotation3'].values))\n",
        "\n",
        "\n",
        "avgerage_k_score = (x1 + x2 + x3)/3\n",
        "print(\"Cohen's kappa =\", round(avgerage_k_score, 2))\n",
        "\n",
        "if avgerage_k_score < 0.0:\n",
        "    print(\"Less than chance agreement\")\n",
        "\n",
        "elif ((avgerage_k_score >= 0.01) & (avgerage_k_score <= 0.20)):\n",
        "    print(\"Slight agreement\")\n",
        "\n",
        "elif ((avgerage_k_score >= 0.21) and (avgerage_k_score <= 0.40)):\n",
        "    print(\"Fair agreement\")\n",
        "\n",
        "elif ((avgerage_k_score >= 0.41) and (avgerage_k_score <= 0.60)):\n",
        "    print(\"Moderate agreement\")\n",
        "\n",
        "elif ((avgerage_k_score >= 0.61) and (avgerage_k_score <= 0.80)):\n",
        "    print(\"Substantial agreement\")\n",
        "\n",
        "elif ((avgerage_k_score >= 0.81) and (avgerage_k_score <= 0.99)):\n",
        "    print(\"Almost perfect agreement\")\n",
        "\n",
        "    "
      ],
      "metadata": {
        "colab": {
          "base_uri": "https://localhost:8080/"
        },
        "id": "_Y9vkZ5DzRbN",
        "outputId": "5ab1fad4-aeb4-49d6-bcb1-5d2415a89fc6"
      },
      "execution_count": 44,
      "outputs": [
        {
          "output_type": "stream",
          "name": "stdout",
          "text": [
            "Cohen's kappa = 0.54\n",
            "Moderate agreement\n"
          ]
        }
      ]
    },
    {
      "cell_type": "code",
      "source": [
        "data = [list(txt_df['le_Annotation1'].values),\n",
        "        list(txt_df['le_Annotation2'].values),\n",
        "        list(txt_df['le_Annotation3'].values)]\n",
        "\n",
        "fleiss_score = krippendorff.alpha(data)\n",
        "print(\"Fleiss kappa score =\", round(fleiss_score, 2))"
      ],
      "metadata": {
        "colab": {
          "base_uri": "https://localhost:8080/"
        },
        "id": "2wfObvTe0NaM",
        "outputId": "24e09e54-1d63-48e2-91cd-ea1b094b1b92"
      },
      "execution_count": 46,
      "outputs": [
        {
          "output_type": "stream",
          "name": "stdout",
          "text": [
            "Fleiss kappa score = 0.57\n"
          ]
        }
      ]
    }
  ],
  "metadata": {
    "kernelspec": {
      "display_name": "Python 3 (ipykernel)",
      "language": "python",
      "name": "python3"
    },
    "language_info": {
      "codemirror_mode": {
        "name": "ipython",
        "version": 3
      },
      "file_extension": ".py",
      "mimetype": "text/x-python",
      "name": "python",
      "nbconvert_exporter": "python",
      "pygments_lexer": "ipython3",
      "version": "3.9.12"
    },
    "colab": {
      "name": "lab_assignment_08-1.ipynb",
      "provenance": [],
      "include_colab_link": true
    }
  },
  "nbformat": 4,
  "nbformat_minor": 0
}